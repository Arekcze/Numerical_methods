{
 "cells": [
  {
   "cell_type": "code",
   "execution_count": null,
   "metadata": {
    "collapsed": true
   },
   "outputs": [],
   "source": [
    "def horner(coefficients,value):\n",
    "    returnable_arr = []\n",
    "    if(len(coefficients)<=2):\n",
    "        returnable_arr[0] = coefficients[0]\n",
    "        returnable_arr[1] = coefficients[1]\n",
    "        return returnable_arr\n",
    "    else:\n",
    "        iterator = 0\n",
    "        for coefficient in coefficients:\n",
    "            if iterator = 0:\n",
    "                returnable_arr[iterator] = coefficients[iterator]\n",
    "                iterator++\n",
    "            else:\n",
    "                returnable_arr[iterator] = coefficient\n",
    "                iterator++\n",
    "        return returnable_arr\n",
    "        \n"
   ]
  }
 ],
 "metadata": {
  "kernelspec": {
   "display_name": "Python 2",
   "language": "python",
   "name": "python2"
  },
  "language_info": {
   "codemirror_mode": {
    "name": "ipython",
    "version": 2
   },
   "file_extension": ".py",
   "mimetype": "text/x-python",
   "name": "python",
   "nbconvert_exporter": "python",
   "pygments_lexer": "ipython2",
   "version": "2.7.6"
  }
 },
 "nbformat": 4,
 "nbformat_minor": 0
}
